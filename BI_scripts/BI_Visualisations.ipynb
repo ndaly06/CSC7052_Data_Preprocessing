{
 "cells": [
  {
   "cell_type": "code",
   "execution_count": 1,
   "metadata": {},
   "outputs": [],
   "source": [
    "# imports the neccessary python modules\n",
    "import folium\n",
    "from folium import plugins\n",
    "from folium.plugins import HeatMap\n",
    "import os\n",
    "import matplotlib.pyplot as plt\n",
    "%matplotlib inline\n",
    "import pandas as pd\n",
    "import seaborn as sns\n",
    "\n",
    "# obtains the machine username for cleaner file paths\n",
    "user = os.environ[\"HOME\"]"
   ]
  },
  {
   "cell_type": "code",
   "execution_count": 2,
   "metadata": {},
   "outputs": [
    {
     "data": {
      "text/html": [
       "<div>\n",
       "<style scoped>\n",
       "    .dataframe tbody tr th:only-of-type {\n",
       "        vertical-align: middle;\n",
       "    }\n",
       "\n",
       "    .dataframe tbody tr th {\n",
       "        vertical-align: top;\n",
       "    }\n",
       "\n",
       "    .dataframe thead th {\n",
       "        text-align: right;\n",
       "    }\n",
       "</style>\n",
       "<table border=\"1\" class=\"dataframe\">\n",
       "  <thead>\n",
       "    <tr style=\"text-align: right;\">\n",
       "      <th></th>\n",
       "      <th>AirportName</th>\n",
       "      <th>AirportName.1</th>\n",
       "      <th>Month</th>\n",
       "      <th>Count</th>\n",
       "    </tr>\n",
       "  </thead>\n",
       "  <tbody>\n",
       "    <tr>\n",
       "      <th>0</th>\n",
       "      <td>Belfast International Airport</td>\n",
       "      <td>Manchester Airport</td>\n",
       "      <td>January</td>\n",
       "      <td>3080</td>\n",
       "    </tr>\n",
       "    <tr>\n",
       "      <th>1</th>\n",
       "      <td>Belfast International Airport</td>\n",
       "      <td>Manchester Airport</td>\n",
       "      <td>February</td>\n",
       "      <td>2361</td>\n",
       "    </tr>\n",
       "    <tr>\n",
       "      <th>2</th>\n",
       "      <td>Belfast International Airport</td>\n",
       "      <td>Manchester Airport</td>\n",
       "      <td>March</td>\n",
       "      <td>2981</td>\n",
       "    </tr>\n",
       "    <tr>\n",
       "      <th>3</th>\n",
       "      <td>Belfast International Airport</td>\n",
       "      <td>Manchester Airport</td>\n",
       "      <td>April</td>\n",
       "      <td>2318</td>\n",
       "    </tr>\n",
       "    <tr>\n",
       "      <th>4</th>\n",
       "      <td>Belfast International Airport</td>\n",
       "      <td>Manchester Airport</td>\n",
       "      <td>May</td>\n",
       "      <td>1987</td>\n",
       "    </tr>\n",
       "  </tbody>\n",
       "</table>\n",
       "</div>"
      ],
      "text/plain": [
       "                     AirportName       AirportName.1     Month  Count\n",
       "0  Belfast International Airport  Manchester Airport   January   3080\n",
       "1  Belfast International Airport  Manchester Airport  February   2361\n",
       "2  Belfast International Airport  Manchester Airport     March   2981\n",
       "3  Belfast International Airport  Manchester Airport     April   2318\n",
       "4  Belfast International Airport  Manchester Airport       May   1987"
      ]
     },
     "execution_count": 2,
     "metadata": {},
     "output_type": "execute_result"
    }
   ],
   "source": [
    "#\n",
    "bi_case1_data = pd.read_csv(user+\"/Documents/CSC7052_Data_Preprocessing/data/BI_Case1_Data.csv\")\n",
    "\n",
    "bi_case1_data.head()"
   ]
  },
  {
   "cell_type": "code",
   "execution_count": 3,
   "metadata": {},
   "outputs": [
    {
     "data": {
      "image/png": "[encoded data removed]",
      "text/plain": [
       "<matplotlib.figure.Figure at 0x11abfe390>"
      ]
     },
     "metadata": {},
     "output_type": "display_data"
    }
   ],
   "source": [
    "#\n",
    "passenger_count = bi_case1_data['Count']\n",
    "\n",
    "#\n",
    "months = bi_case1_data['Month']\n",
    "\n",
    "#\n",
    "frequency_plt = plt.figure(figsize=(18,8))\n",
    "sns.barplot(months, passenger_count, palette=(\"colorblind\"))\n",
    "plt.title('Frequency of passengers per month from Belfast to Manchester (2018)')\n",
    "plt.xlabel('Month', fontsize=11)\n",
    "plt.ylabel('Passenger frequency', fontsize=11)\n",
    "plt.show()"
   ]
  },
  {
   "cell_type": "code",
   "execution_count": 17,
   "metadata": {},
   "outputs": [
    {
     "data": {
      "text/html": [
       "<div>\n",
       "<style scoped>\n",
       "    .dataframe tbody tr th:only-of-type {\n",
       "        vertical-align: middle;\n",
       "    }\n",
       "\n",
       "    .dataframe tbody tr th {\n",
       "        vertical-align: top;\n",
       "    }\n",
       "\n",
       "    .dataframe thead th {\n",
       "        text-align: right;\n",
       "    }\n",
       "</style>\n",
       "<table border=\"1\" class=\"dataframe\">\n",
       "  <thead>\n",
       "    <tr style=\"text-align: right;\">\n",
       "      <th></th>\n",
       "      <th>Origin Airport</th>\n",
       "      <th>Destination Airport</th>\n",
       "      <th>Latitude</th>\n",
       "      <th>Longitude</th>\n",
       "      <th>Destination Count</th>\n",
       "      <th>Count_Divided</th>\n",
       "    </tr>\n",
       "  </thead>\n",
       "  <tbody>\n",
       "    <tr>\n",
       "      <th>0</th>\n",
       "      <td>Belfast International Airport</td>\n",
       "      <td>Bordeaux-Mí©rignac Airport</td>\n",
       "      <td>44.828300</td>\n",
       "      <td>-0.715556</td>\n",
       "      <td>25000</td>\n",
       "      <td>2500.0</td>\n",
       "    </tr>\n",
       "    <tr>\n",
       "      <th>1</th>\n",
       "      <td>Belfast International Airport</td>\n",
       "      <td>Lyon Saint-Exupí©ry Airport</td>\n",
       "      <td>45.725556</td>\n",
       "      <td>5.081111</td>\n",
       "      <td>19826</td>\n",
       "      <td>1982.6</td>\n",
       "    </tr>\n",
       "    <tr>\n",
       "      <th>2</th>\n",
       "      <td>Belfast International Airport</td>\n",
       "      <td>Nice-CíÇte d'Azur Airport</td>\n",
       "      <td>43.658401</td>\n",
       "      <td>7.215870</td>\n",
       "      <td>23749</td>\n",
       "      <td>2374.9</td>\n",
       "    </tr>\n",
       "    <tr>\n",
       "      <th>3</th>\n",
       "      <td>Belfast International Airport</td>\n",
       "      <td>Charles de Gaulle International Airport</td>\n",
       "      <td>49.012798</td>\n",
       "      <td>2.550000</td>\n",
       "      <td>41292</td>\n",
       "      <td>4129.2</td>\n",
       "    </tr>\n",
       "    <tr>\n",
       "      <th>4</th>\n",
       "      <td>Belfast International Airport</td>\n",
       "      <td>Paris-Orly Airport</td>\n",
       "      <td>48.723333</td>\n",
       "      <td>2.379444</td>\n",
       "      <td>13000</td>\n",
       "      <td>1300.0</td>\n",
       "    </tr>\n",
       "  </tbody>\n",
       "</table>\n",
       "</div>"
      ],
      "text/plain": [
       "                  Origin Airport                      Destination Airport  \\\n",
       "0  Belfast International Airport               Bordeaux-Mí©rignac Airport   \n",
       "1  Belfast International Airport              Lyon Saint-Exupí©ry Airport   \n",
       "2  Belfast International Airport                Nice-CíÇte d'Azur Airport   \n",
       "3  Belfast International Airport  Charles de Gaulle International Airport   \n",
       "4  Belfast International Airport                       Paris-Orly Airport   \n",
       "\n",
       "    Latitude  Longitude  Destination Count  Count_Divided  \n",
       "0  44.828300  -0.715556              25000         2500.0  \n",
       "1  45.725556   5.081111              19826         1982.6  \n",
       "2  43.658401   7.215870              23749         2374.9  \n",
       "3  49.012798   2.550000              41292         4129.2  \n",
       "4  48.723333   2.379444              13000         1300.0  "
      ]
     },
     "execution_count": 17,
     "metadata": {},
     "output_type": "execute_result"
    }
   ],
   "source": [
    "#\n",
    "bi_case2_data = pd.read_csv(user+\"/Documents/CSC7052_Data_Preprocessing/data/BI_Case2_Data.csv\", encoding='latin-1')\n",
    "\n",
    "\n",
    "bi_case2_data['Count_Divided'] = bi_case2_data['Destination Count'] * 0.1\n",
    "\n",
    "bi_case2_data.head()"
   ]
  },
  {
   "cell_type": "code",
   "execution_count": 16,
   "metadata": {},
   "outputs": [
    {
     "data": {
      "text/html": [
       "<div>\n",
       "<style scoped>\n",
       "    .dataframe tbody tr th:only-of-type {\n",
       "        vertical-align: middle;\n",
       "    }\n",
       "\n",
       "    .dataframe tbody tr th {\n",
       "        vertical-align: top;\n",
       "    }\n",
       "\n",
       "    .dataframe thead th {\n",
       "        text-align: right;\n",
       "    }\n",
       "</style>\n",
       "<table border=\"1\" class=\"dataframe\">\n",
       "  <thead>\n",
       "    <tr style=\"text-align: right;\">\n",
       "      <th></th>\n",
       "      <th>Origin Airport</th>\n",
       "      <th>Destination Airport</th>\n",
       "      <th>Latitude</th>\n",
       "      <th>Longitude</th>\n",
       "      <th>Destination Count</th>\n",
       "      <th>Count_Divided</th>\n",
       "    </tr>\n",
       "  </thead>\n",
       "  <tbody>\n",
       "    <tr>\n",
       "      <th>3</th>\n",
       "      <td>Belfast International Airport</td>\n",
       "      <td>Charles de Gaulle International Airport</td>\n",
       "      <td>49.012798</td>\n",
       "      <td>2.550000</td>\n",
       "      <td>41292</td>\n",
       "      <td>4129.2</td>\n",
       "    </tr>\n",
       "    <tr>\n",
       "      <th>4</th>\n",
       "      <td>Belfast International Airport</td>\n",
       "      <td>Paris-Orly Airport</td>\n",
       "      <td>48.723333</td>\n",
       "      <td>2.379444</td>\n",
       "      <td>13000</td>\n",
       "      <td>1300.0</td>\n",
       "    </tr>\n",
       "    <tr>\n",
       "      <th>5</th>\n",
       "      <td>Belfast International Airport</td>\n",
       "      <td>Toulouse-Blagnac Airport</td>\n",
       "      <td>43.629101</td>\n",
       "      <td>1.363820</td>\n",
       "      <td>18721</td>\n",
       "      <td>1872.1</td>\n",
       "    </tr>\n",
       "    <tr>\n",
       "      <th>14</th>\n",
       "      <td>Belfast International Airport</td>\n",
       "      <td>Barcelona International Airport</td>\n",
       "      <td>41.297100</td>\n",
       "      <td>2.078460</td>\n",
       "      <td>27816</td>\n",
       "      <td>2781.6</td>\n",
       "    </tr>\n",
       "  </tbody>\n",
       "</table>\n",
       "</div>"
      ],
      "text/plain": [
       "                   Origin Airport                      Destination Airport  \\\n",
       "3   Belfast International Airport  Charles de Gaulle International Airport   \n",
       "4   Belfast International Airport                       Paris-Orly Airport   \n",
       "5   Belfast International Airport                 Toulouse-Blagnac Airport   \n",
       "14  Belfast International Airport          Barcelona International Airport   \n",
       "\n",
       "     Latitude  Longitude  Destination Count  Count_Divided  \n",
       "3   49.012798   2.550000              41292         4129.2  \n",
       "4   48.723333   2.379444              13000         1300.0  \n",
       "5   43.629101   1.363820              18721         1872.1  \n",
       "14  41.297100   2.078460              27816         2781.6  "
      ]
     },
     "execution_count": 16,
     "metadata": {},
     "output_type": "execute_result"
    }
   ],
   "source": [
    "#filtered = bi_case2_data[(bi_case2_data['Latitude'].between(40, 50, inclusive=True)) & \n",
    "#                        (bi_case2_data['Longitude'].between(1, 5, inclusive=True))]"
   ]
  },
  {
   "cell_type": "code",
   "execution_count": 18,
   "metadata": {},
   "outputs": [
    {
     "data": {
      "text/html": [
       "<div style=\"width:100%;\"><div style=\"position:relative;width:100%;height:0;padding-bottom:60%;\"><iframe src=\"data:text/html;charset=utf-8;base64,PCFET0NUWVBFIGh0bWw+CjxoZWFkPiAgICAKICAgIDxtZXRhIGh0dHAtZXF1aXY9ImNvbnRlbnQtdHlwZSIgY29udGVudD0idGV4dC9odG1sOyBjaGFyc2V0PVVURi04IiAvPgogICAgPHNjcmlwdD5MX1BSRUZFUl9DQU5WQVM9ZmFsc2U7IExfTk9fVE9VQ0g9ZmFsc2U7IExfRElTQUJMRV8zRD1mYWxzZTs8L3NjcmlwdD4KICAgIDxzY3JpcHQgc3JjPSJodHRwczovL2Nkbi5qc2RlbGl2ci5uZXQvbnBtL2xlYWZsZXRAMS4yLjAvZGlzdC9sZWFmbGV0LmpzIj48L3NjcmlwdD4KICAgIDxzY3JpcHQgc3JjPSJodHRwczovL2FqYXguZ29vZ2xlYXBpcy5jb20vYWpheC9saWJzL2pxdWVyeS8xLjExLjEvanF1ZXJ5Lm1pbi5qcyI+PC9zY3JpcHQ+CiAgICA8c2NyaXB0IHNyYz0iaHR0cHM6Ly9tYXhjZG4uYm9vdHN0cmFwY2RuLmNvbS9ib290c3RyYXAvMy4yLjAvanMvYm9vdHN0cmFwLm1pbi5qcyI+PC9zY3JpcHQ+CiAgICA8c2NyaXB0IHNyYz0iaHR0cHM6Ly9jZG5qcy5jbG91ZGZsYXJlLmNvbS9hamF4L2xpYnMvTGVhZmxldC5hd2Vzb21lLW1hcmtlcnMvMi4wLjIvbGVhZmxldC5hd2Vzb21lLW1hcmtlcnMuanMiPjwvc2NyaXB0PgogICAgPGxpbmsgcmVsPSJzdHlsZXNoZWV0IiBocmVmPSJodHRwczovL2Nkbi5qc2RlbGl2ci5uZXQvbnBtL2xlYWZsZXRAMS4yLjAvZGlzdC9sZWFmbGV0LmNzcyIvPgogICAgPGxpbmsgcmVsPSJzdHlsZXNoZWV0IiBocmVmPSJodHRwczovL21heGNkbi5ib290c3RyYXBjZG4uY29tL2Jvb3RzdHJhcC8zLjIuMC9jc3MvYm9vdHN0cmFwLm1pbi5jc3MiLz4KICAgIDxsaW5rIHJlbD0ic3R5bGVzaGVldCIgaHJlZj0iaHR0cHM6Ly9tYXhjZG4uYm9vdHN0cmFwY2RuLmNvbS9ib290c3RyYXAvMy4yLjAvY3NzL2Jvb3RzdHJhcC10aGVtZS5taW4uY3NzIi8+CiAgICA8bGluayByZWw9InN0eWxlc2hlZXQiIGhyZWY9Imh0dHBzOi8vbWF4Y2RuLmJvb3RzdHJhcGNkbi5jb20vZm9udC1hd2Vzb21lLzQuNi4zL2Nzcy9mb250LWF3ZXNvbWUubWluLmNzcyIvPgogICAgPGxpbmsgcmVsPSJzdHlsZXNoZWV0IiBocmVmPSJodHRwczovL2NkbmpzLmNsb3VkZmxhcmUuY29tL2FqYXgvbGlicy9MZWFmbGV0LmF3ZXNvbWUtbWFya2Vycy8yLjAuMi9sZWFmbGV0LmF3ZXNvbWUtbWFya2Vycy5jc3MiLz4KICAgIDxsaW5rIHJlbD0ic3R5bGVzaGVldCIgaHJlZj0iaHR0cHM6Ly9yYXdnaXQuY29tL3B5dGhvbi12aXN1YWxpemF0aW9uL2ZvbGl1bS9tYXN0ZXIvZm9saXVtL3RlbXBsYXRlcy9sZWFmbGV0LmF3ZXNvbWUucm90YXRlLmNzcyIvPgogICAgPHN0eWxlPmh0bWwsIGJvZHkge3dpZHRoOiAxMDAlO2hlaWdodDogMTAwJTttYXJnaW46IDA7cGFkZGluZzogMDt9PC9zdHlsZT4KICAgIDxzdHlsZT4jbWFwIHtwb3NpdGlvbjphYnNvbHV0ZTt0b3A6MDtib3R0b206MDtyaWdodDowO2xlZnQ6MDt9PC9zdHlsZT4KICAgIAogICAgPHN0eWxlPiNtYXBfMTYzMTQ1ZmIzNWEzNDQ1NWFjNWIwMTdkYTJlMDhiYTcgewogICAgICAgIHBvc2l0aW9uOiByZWxhdGl2ZTsKICAgICAgICB3aWR0aDogMTAwLjAlOwogICAgICAgIGhlaWdodDogMTAwLjAlOwogICAgICAgIGxlZnQ6IDAuMCU7CiAgICAgICAgdG9wOiAwLjAlOwogICAgICAgIH0KICAgIDwvc3R5bGU+CiAgICA8c2NyaXB0IHNyYz0iaHR0cHM6Ly9sZWFmbGV0LmdpdGh1Yi5pby9MZWFmbGV0LmhlYXQvZGlzdC9sZWFmbGV0LWhlYXQuanMiPjwvc2NyaXB0Pgo8L2hlYWQ+Cjxib2R5PiAgICAKICAgIAogICAgPGRpdiBjbGFzcz0iZm9saXVtLW1hcCIgaWQ9Im1hcF8xNjMxNDVmYjM1YTM0NDU1YWM1YjAxN2RhMmUwOGJhNyIgPjwvZGl2Pgo8L2JvZHk+CjxzY3JpcHQ+ICAgIAogICAgCiAgICAKICAgICAgICB2YXIgYm91bmRzID0gbnVsbDsKICAgIAoKICAgIHZhciBtYXBfMTYzMTQ1ZmIzNWEzNDQ1NWFjNWIwMTdkYTJlMDhiYTcgPSBMLm1hcCgKICAgICAgICAnbWFwXzE2MzE0NWZiMzVhMzQ0NTVhYzViMDE3ZGEyZTA4YmE3JywgewogICAgICAgIGNlbnRlcjogWzUxLjUwNzQsIDAuMTI3OF0sCiAgICAgICAgem9vbTogNiwKICAgICAgICBtYXhCb3VuZHM6IGJvdW5kcywKICAgICAgICBsYXllcnM6IFtdLAogICAgICAgIHdvcmxkQ29weUp1bXA6IGZhbHNlLAogICAgICAgIGNyczogTC5DUlMuRVBTRzM4NTcsCiAgICAgICAgem9vbUNvbnRyb2w6IHRydWUsCiAgICAgICAgfSk7CgogICAgCiAgICAKICAgIHZhciB0aWxlX2xheWVyXzZmMzU1NzAyMjg3ZjQzZjBiN2QxODM2NWEzYzBiZDljID0gTC50aWxlTGF5ZXIoCiAgICAgICAgJ2h0dHBzOi8ve3N9LnRpbGUub3BlbnN0cmVldG1hcC5vcmcve3p9L3t4fS97eX0ucG5nJywKICAgICAgICB7CiAgICAgICAgImF0dHJpYnV0aW9uIjogbnVsbCwKICAgICAgICAiZGV0ZWN0UmV0aW5hIjogZmFsc2UsCiAgICAgICAgIm1heE5hdGl2ZVpvb20iOiAxOCwKICAgICAgICAibWF4Wm9vbSI6IDE4LAogICAgICAgICJtaW5ab29tIjogMCwKICAgICAgICAibm9XcmFwIjogZmFsc2UsCiAgICAgICAgInN1YmRvbWFpbnMiOiAiYWJjIgp9KS5hZGRUbyhtYXBfMTYzMTQ1ZmIzNWEzNDQ1NWFjNWIwMTdkYTJlMDhiYTcpOwogICAgCiAgICAgICAgICAgIHZhciBoZWF0X21hcF9lNmNhNWY5ZWExYzU0ZjZjOWVhNDQ0MzVjMTg2YmEzMSA9IEwuaGVhdExheWVyKAogICAgICAgICAgICAgICAgW1s0NC44MjgzMDA0OCwgLTAuNzE1NTU2MDI1OTk5OTk5OV0sIFs0NS43MjU1NTU2MDAwMDAwMSwgNS4wODExMTEwOTk5OTk5OTldLCBbNDMuNjU4NDAxNDksIDcuMjE1ODY5OTA0XSwgWzQ5LjAxMjc5ODMxLCAyLjU0OTk5OTk1Ml0sIFs0OC43MjMzMzMzLCAyLjM3OTQ0NDRdLCBbNDMuNjI5MTAxLCAxLjM2MzgyXSwgWzUyLjM4MDAwMTA3LCAxMy41MjI1MDAwNF0sIFs1My42MzA0MDE2MSwgOS45ODgyMjk3NTJdLCBbNDUuNjMwNiwgOC43MjgxMTAwMDAwMDAwMDFdLCBbNDAuODg2MDAyMDAwMDAwMDA1LCAxNC4yOTA4XSwgWzQ1LjUwNTI5OSwgMTIuMzUxOV0sIFs1Mi4zMDg2MDEzOCwgNC43NjM4ODk3OV0sIFszOC43ODEyOTk1OSwgLTkuMTM1OTE5NTcxXSwgWzQxLjI0ODEwMDI4LCAtOC42ODEzODk4MDldLCBbNDEuMjk3MTAwMDcsIDIuMDc4NDU5OTc4XSwgWzUxLjM4MjcwMiwgLTIuNzE5MDldLCBbNTUuOTUwMDAwNzYsIC0zLjM3MjQ5OTk0MzAwMDAwMDJdLCBbNTUuODcxODk4NjUsIC00LjQzMzA2MDE2OV0sIFs1Ny41NDI0OTk1NCwgLTQuMDQ3NTAwMTM0XSwgWzUzLjMzMzU5OTA5LCAtMi44NDk3MjAwMDFdLCBbNTEuMTQ4MTAxODEsIC0wLjE5MDI3Nzk5Mzk5OTk5OTk4XSwgWzUxLjg3NDY5ODY0LCAtMC4zNjgzMzMwMTJdLCBbNTEuNTcxMzk5NjksIDAuNjk1NTU1OTg1XSwgWzUxLjg4NDk5ODMyLCAwLjIzNDk5OTk5OV0sIFs1My4zNTM2OTg3MywgLTIuMjc0OTUwMDI3XSwgWzU1LjAzNzQ5ODQ3LCAtMS42OTE2Njk5NDFdXSwKICAgICAgICAgICAgICAgIHsKICAgICAgICAgICAgICAgICAgICBtaW5PcGFjaXR5OiAwLjUsCiAgICAgICAgICAgICAgICAgICAgbWF4Wm9vbTogMTgsCiAgICAgICAgICAgICAgICAgICAgbWF4OiAxLjAsCiAgICAgICAgICAgICAgICAgICAgcmFkaXVzOiAyNSwKICAgICAgICAgICAgICAgICAgICBibHVyOiAxNSwKICAgICAgICAgICAgICAgICAgICBncmFkaWVudDogbnVsbAogICAgICAgICAgICAgICAgICAgIH0pCiAgICAgICAgICAgICAgICAuYWRkVG8obWFwXzE2MzE0NWZiMzVhMzQ0NTVhYzViMDE3ZGEyZTA4YmE3KTsKICAgICAgICAKPC9zY3JpcHQ+\" style=\"position:absolute;width:100%;height:100%;left:0;top:0;border:none !important;\" allowfullscreen webkitallowfullscreen mozallowfullscreen></iframe></div></div>"
      ],
      "text/plain": [
       "<folium.folium.Map at 0x11da4d550>"
      ]
     },
     "execution_count": 18,
     "metadata": {},
     "output_type": "execute_result"
    }
   ],
   "source": [
    "# initialises the folium map\n",
    "heat_map = folium.Map(location=[51.5074, 0.1278],\n",
    "                    zoom_start = 6) \n",
    "\n",
    "# Ensure you're handing it floats\n",
    "bi_case2_data['Latitude'] = bi_case2_data['Latitude'].astype(float)\n",
    "bi_case2_data['Longitude'] = bi_case2_data['Longitude'].astype(float)\n",
    "\n",
    "#\n",
    "heat_df = bi_case2_data[['Latitude', 'Longitude']]\n",
    "\n",
    "# List comprehension to make out list of lists\n",
    "heat_data = [[row['Latitude'],row['Longitude']] for index, row in heat_df.iterrows()]\n",
    "\n",
    "# Plot it on the map\n",
    "HeatMap(heat_data).add_to(heat_map)\n",
    "\n",
    "# Display the map\n",
    "heat_map"
   ]
  },
  {
   "cell_type": "code",
   "execution_count": 92,
   "metadata": {},
   "outputs": [
    {
     "data": {
      "text/html": [
       "<div>\n",
       "<style scoped>\n",
       "    .dataframe tbody tr th:only-of-type {\n",
       "        vertical-align: middle;\n",
       "    }\n",
       "\n",
       "    .dataframe tbody tr th {\n",
       "        vertical-align: top;\n",
       "    }\n",
       "\n",
       "    .dataframe thead th {\n",
       "        text-align: right;\n",
       "    }\n",
       "</style>\n",
       "<table border=\"1\" class=\"dataframe\">\n",
       "  <thead>\n",
       "    <tr style=\"text-align: right;\">\n",
       "      <th></th>\n",
       "      <th>Age Group Type</th>\n",
       "      <th>Age Group Count</th>\n",
       "      <th>Special Assist Count</th>\n",
       "      <th>SpecialAssistDescription</th>\n",
       "    </tr>\n",
       "  </thead>\n",
       "  <tbody>\n",
       "    <tr>\n",
       "      <th>0</th>\n",
       "      <td>Adult (16+)</td>\n",
       "      <td>23.0</td>\n",
       "      <td>23.0</td>\n",
       "      <td>I am blind or significantly sight impaired.</td>\n",
       "    </tr>\n",
       "    <tr>\n",
       "      <th>1</th>\n",
       "      <td>Adult (16+)</td>\n",
       "      <td>65.0</td>\n",
       "      <td>65.0</td>\n",
       "      <td>I am a wheelchair user or I require wheelchair...</td>\n",
       "    </tr>\n",
       "    <tr>\n",
       "      <th>2</th>\n",
       "      <td>Adult (16+)</td>\n",
       "      <td>13.0</td>\n",
       "      <td>13.0</td>\n",
       "      <td>I am travelling with a registered guide / assi...</td>\n",
       "    </tr>\n",
       "    <tr>\n",
       "      <th>3</th>\n",
       "      <td>Adult (16+)</td>\n",
       "      <td>341.0</td>\n",
       "      <td>341.0</td>\n",
       "      <td>I am deaf or significantly hearing impaired</td>\n",
       "    </tr>\n",
       "    <tr>\n",
       "      <th>4</th>\n",
       "      <td>Adult (16+)</td>\n",
       "      <td>687.0</td>\n",
       "      <td>687.0</td>\n",
       "      <td>I have an intellectual or developmental disabi...</td>\n",
       "    </tr>\n",
       "  </tbody>\n",
       "</table>\n",
       "</div>"
      ],
      "text/plain": [
       "  Age Group Type  Age Group Count  Special Assist Count  \\\n",
       "0    Adult (16+)             23.0                  23.0   \n",
       "1    Adult (16+)             65.0                  65.0   \n",
       "2    Adult (16+)             13.0                  13.0   \n",
       "3    Adult (16+)            341.0                 341.0   \n",
       "4    Adult (16+)            687.0                 687.0   \n",
       "\n",
       "                            SpecialAssistDescription  \n",
       "0        I am blind or significantly sight impaired.  \n",
       "1  I am a wheelchair user or I require wheelchair...  \n",
       "2  I am travelling with a registered guide / assi...  \n",
       "3        I am deaf or significantly hearing impaired  \n",
       "4  I have an intellectual or developmental disabi...  "
      ]
     },
     "execution_count": 92,
     "metadata": {},
     "output_type": "execute_result"
    }
   ],
   "source": [
    "#\n",
    "bi_case3_data = pd.read_csv(user+\"/Documents/CSC7052_Data_Preprocessing/data/BI_Case3_Data.csv\")\n",
    "\n",
    "bi_case3_data.head()"
   ]
  },
  {
   "cell_type": "code",
   "execution_count": 122,
   "metadata": {},
   "outputs": [
    {
     "data": {
      "image/png": "[encoded data removed]",
      "text/plain": [
       "<matplotlib.figure.Figure at 0x125286518>"
      ]
     },
     "metadata": {},
     "output_type": "display_data"
    }
   ],
   "source": [
    "#\n",
    "specialassist_plt = plt.figure(figsize=(18,12))\n",
    "sns.barplot(y='Age Group Type', x='Special Assist Count', hue='SpecialAssistDescription', data=bi_case3_data, palette=(\"colorblind\"))\n",
    "plt.ylabel('Age Groups', fontsize=11)\n",
    "plt.title('Special assistance requirements variations within Age Groups');"
   ]
  },
  {
   "cell_type": "code",
   "execution_count": null,
   "metadata": {},
   "outputs": [],
   "source": [
    "frequency_plt = plt.figure(figsize=(18,8))\n",
    "sns.barplot(months, passenger_count, palette=(\"colorblind\"))\n",
    "plt.title('Frequency of passengers per month from Belfast to Manchester (2018)')\n",
    "plt.xlabel('Month', fontsize=11)\n",
    "plt.ylabel('Passenger frequency', fontsize=11)\n",
    "plt.show()"
   ]
  },
  {
   "cell_type": "code",
   "execution_count": null,
   "metadata": {},
   "outputs": [],
   "source": []
  },
  {
   "cell_type": "code",
   "execution_count": null,
   "metadata": {},
   "outputs": [],
   "source": []
  },
  {
   "cell_type": "code",
   "execution_count": null,
   "metadata": {},
   "outputs": [],
   "source": []
  },
  {
   "cell_type": "code",
   "execution_count": null,
   "metadata": {},
   "outputs": [],
   "source": []
  },
  {
   "cell_type": "code",
   "execution_count": 97,
   "metadata": {},
   "outputs": [
    {
     "data": {
      "text/html": [
       "<div>\n",
       "<style scoped>\n",
       "    .dataframe tbody tr th:only-of-type {\n",
       "        vertical-align: middle;\n",
       "    }\n",
       "\n",
       "    .dataframe tbody tr th {\n",
       "        vertical-align: top;\n",
       "    }\n",
       "\n",
       "    .dataframe thead th {\n",
       "        text-align: right;\n",
       "    }\n",
       "</style>\n",
       "<table border=\"1\" class=\"dataframe\">\n",
       "  <thead>\n",
       "    <tr style=\"text-align: right;\">\n",
       "      <th></th>\n",
       "      <th>AirportName</th>\n",
       "      <th>City</th>\n",
       "      <th>Country</th>\n",
       "      <th>AirportCode</th>\n",
       "      <th>Latitude</th>\n",
       "      <th>Longitude</th>\n",
       "    </tr>\n",
       "  </thead>\n",
       "  <tbody>\n",
       "    <tr>\n",
       "      <th>0</th>\n",
       "      <td>Bordeaux-Mérignac Airport</td>\n",
       "      <td>Bordeaux</td>\n",
       "      <td>France</td>\n",
       "      <td>BOD</td>\n",
       "      <td>44.828300</td>\n",
       "      <td>-0.715556</td>\n",
       "    </tr>\n",
       "    <tr>\n",
       "      <th>1</th>\n",
       "      <td>Lyon Saint-Exupéry Airport</td>\n",
       "      <td>Lyon</td>\n",
       "      <td>France</td>\n",
       "      <td>LYS</td>\n",
       "      <td>45.725556</td>\n",
       "      <td>5.081111</td>\n",
       "    </tr>\n",
       "    <tr>\n",
       "      <th>2</th>\n",
       "      <td>Nice-Côte d'Azur Airport</td>\n",
       "      <td>Nice</td>\n",
       "      <td>France</td>\n",
       "      <td>NCE</td>\n",
       "      <td>43.658401</td>\n",
       "      <td>7.215870</td>\n",
       "    </tr>\n",
       "  </tbody>\n",
       "</table>\n",
       "</div>"
      ],
      "text/plain": [
       "                  AirportName      City Country AirportCode   Latitude  \\\n",
       "0   Bordeaux-Mérignac Airport  Bordeaux  France         BOD  44.828300   \n",
       "1  Lyon Saint-Exupéry Airport      Lyon  France         LYS  45.725556   \n",
       "2    Nice-Côte d'Azur Airport      Nice  France         NCE  43.658401   \n",
       "\n",
       "   Longitude  \n",
       "0  -0.715556  \n",
       "1   5.081111  \n",
       "2   7.215870  "
      ]
     },
     "execution_count": 97,
     "metadata": {},
     "output_type": "execute_result"
    }
   ],
   "source": [
    "# reads in the airport data\n",
    "airports_data = pd.read_csv(user+\"/Documents/CSC7052_Data_Preprocessing/data/airports.csv\")\n",
    "\n",
    "airports_data.head(3)"
   ]
  },
  {
   "cell_type": "code",
   "execution_count": 93,
   "metadata": {},
   "outputs": [
    {
     "data": {
      "image/png": "[encoded data removed]",
      "text/plain": [
       "<matplotlib.figure.Figure at 0x1211a12b0>"
      ]
     },
     "metadata": {},
     "output_type": "display_data"
    }
   ],
   "source": [
    "# plots the number of EasyJet Airports per City\n",
    "city_count = airports_data['City'].value_counts()\n",
    "#city_count = city_count[:25,]\n",
    "city_plt = plt.figure(figsize=(14,8))\n",
    "sns.barplot( city_count.values,city_count.index, palette=(\"colorblind\"))\n",
    "plt.title('EasyJet Airports per City')\n",
    "plt.ylabel('EasyJet Airports', fontsize=11)\n",
    "plt.show()"
   ]
  },
  {
   "cell_type": "code",
   "execution_count": 94,
   "metadata": {},
   "outputs": [
    {
     "data": {
      "image/png": "[encoded data removed]",
      "text/plain": [
       "<matplotlib.figure.Figure at 0x11ed1c1d0>"
      ]
     },
     "metadata": {},
     "output_type": "display_data"
    }
   ],
   "source": [
    "# plots the number of EasyJet Airports per European Country\n",
    "country_count = airports_data['Country'].value_counts()\n",
    "\n",
    "country_plt = plt.figure(figsize=(15,6))\n",
    "sns.barplot(country_count.index, country_count.values, palette=(\"colorblind\"))\n",
    "plt.title('EasyJet Airports per Country (Europe)')\n",
    "plt.xlabel('EasyJet Countries (Europe)', fontsize=11)\n",
    "plt.show()"
   ]
  }
 ],
 "metadata": {
  "kernelspec": {
   "display_name": "Python 3",
   "language": "python",
   "name": "python3"
  },
  "language_info": {
   "codemirror_mode": {
    "name": "ipython",
    "version": 3
   },
   "file_extension": ".py",
   "mimetype": "text/x-python",
   "name": "python",
   "nbconvert_exporter": "python",
   "pygments_lexer": "ipython3",
   "version": "3.6.4"
  }
 },
 "nbformat": 4,
 "nbformat_minor": 2
}
