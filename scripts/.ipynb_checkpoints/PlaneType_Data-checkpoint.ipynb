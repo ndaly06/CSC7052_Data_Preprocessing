{
 "cells": [
  {
   "cell_type": "code",
   "execution_count": 49,
   "metadata": {},
   "outputs": [],
   "source": [
    "# imports the necessary python modules\n",
    "import os\n",
    "import pandas as pd\n",
    "\n",
    "# obtains the machine username for cleaner file paths\n",
    "user = os.environ[\"HOME\"]"
   ]
  },
  {
   "cell_type": "code",
   "execution_count": 50,
   "metadata": {},
   "outputs": [
    {
     "data": {
      "text/html": [
       "<div>\n",
       "<style scoped>\n",
       "    .dataframe tbody tr th:only-of-type {\n",
       "        vertical-align: middle;\n",
       "    }\n",
       "\n",
       "    .dataframe tbody tr th {\n",
       "        vertical-align: top;\n",
       "    }\n",
       "\n",
       "    .dataframe thead th {\n",
       "        text-align: right;\n",
       "    }\n",
       "</style>\n",
       "<table border=\"1\" class=\"dataframe\">\n",
       "  <thead>\n",
       "    <tr style=\"text-align: right;\">\n",
       "      <th></th>\n",
       "      <th>Capacity</th>\n",
       "      <th>Fleet_Count</th>\n",
       "      <th>Manufacturer</th>\n",
       "      <th>Model</th>\n",
       "    </tr>\n",
       "  </thead>\n",
       "  <tbody>\n",
       "    <tr>\n",
       "      <th>0</th>\n",
       "      <td>156</td>\n",
       "      <td>132</td>\n",
       "      <td>Airbus</td>\n",
       "      <td>A319-100</td>\n",
       "    </tr>\n",
       "    <tr>\n",
       "      <th>1</th>\n",
       "      <td>186</td>\n",
       "      <td>168</td>\n",
       "      <td>Airbus</td>\n",
       "      <td>A320-200</td>\n",
       "    </tr>\n",
       "    <tr>\n",
       "      <th>2</th>\n",
       "      <td>186</td>\n",
       "      <td>15</td>\n",
       "      <td>Airbus</td>\n",
       "      <td>A320neo</td>\n",
       "    </tr>\n",
       "    <tr>\n",
       "      <th>3</th>\n",
       "      <td>235</td>\n",
       "      <td>3</td>\n",
       "      <td>Airbus</td>\n",
       "      <td>A321neo</td>\n",
       "    </tr>\n",
       "  </tbody>\n",
       "</table>\n",
       "</div>"
      ],
      "text/plain": [
       "   Capacity  Fleet_Count Manufacturer     Model\n",
       "0       156          132       Airbus  A319-100\n",
       "1       186          168       Airbus  A320-200\n",
       "2       186           15       Airbus   A320neo\n",
       "3       235            3       Airbus   A321neo"
      ]
     },
     "execution_count": 50,
     "metadata": {},
     "output_type": "execute_result"
    }
   ],
   "source": [
    "# assigns plane data to corresponding columns - https://en.m.wikipedia.org/wiki/EasyJet\n",
    "planetype_data = {'Manufacturer': ['Airbus', 'Airbus', 'Airbus', 'Airbus'],\n",
    "                   'Model': ['A319-100', 'A320-200', 'A320neo', 'A321neo'],\n",
    "                   'Capacity': [156, 186, 186, 235],\n",
    "                   'Fleet_Count': [132, 168, 15, 3]\n",
    "                  }\n",
    "\n",
    "# creates a dataframe for the plane type data\n",
    "planetype_data = pd.DataFrame.from_dict(planetype_data)\n",
    "\n",
    "planetype_data.head()"
   ]
  },
  {
   "cell_type": "code",
   "execution_count": 51,
   "metadata": {},
   "outputs": [],
   "source": [
    "# outputs the plane data to csv\n",
    "planetype_data.to_csv(user+\"/Documents/CSC7052_Data_Preprocessing/data/plane_types.csv\", index=False)"
   ]
  }
 ],
 "metadata": {
  "kernelspec": {
   "display_name": "Python 3",
   "language": "python",
   "name": "python3"
  },
  "language_info": {
   "codemirror_mode": {
    "name": "ipython",
    "version": 3
   },
   "file_extension": ".py",
   "mimetype": "text/x-python",
   "name": "python",
   "nbconvert_exporter": "python",
   "pygments_lexer": "ipython3",
   "version": "3.6.4"
  }
 },
 "nbformat": 4,
 "nbformat_minor": 2
}
